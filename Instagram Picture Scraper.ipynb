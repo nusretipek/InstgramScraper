{
 "cells": [
  {
   "cell_type": "code",
   "execution_count": null,
   "metadata": {},
   "outputs": [],
   "source": [
    "import json\n",
    "import requests\n",
    "from bs4 import BeautifulSoup\n",
    "from fake_useragent import UserAgent\n",
    "import urllib.request\n",
    "import os"
   ]
  },
  {
   "cell_type": "code",
   "execution_count": null,
   "metadata": {},
   "outputs": [],
   "source": [
    "username = 'donnyroelvink'"
   ]
  },
  {
   "cell_type": "code",
   "execution_count": null,
   "metadata": {},
   "outputs": [],
   "source": [
    "ua = UserAgent()\n",
    "index = 50\n",
    "cursor = 'null'\n",
    "url = 'https://www.instagram.com/' + username + '/?__a=1'\n",
    "r = requests.get(url, headers={'User-Agent': ua.random})\n",
    "json_parse = json.loads(r.text)\n",
    "user_id = json_parse['logging_page_id'][json_parse['logging_page_id'].index('_')+1:]"
   ]
  },
  {
   "cell_type": "code",
   "execution_count": null,
   "metadata": {},
   "outputs": [],
   "source": [
    "Href = []\n",
    "index = 50\n",
    "cursor = 'null'\n",
    "\n",
    "while True:\n",
    "    url = 'https://www.instagram.com/graphql/query/?query_id=17888483320059182&variables={%22id%22:%22' + str(user_id) + '%22+,%22first%22:' + str(index) + ',%22after%22:'+ cursor + '}'\n",
    "    \n",
    "    if (cursor != 'null'):\n",
    "        url = 'https://www.instagram.com/graphql/query/?query_id=17888483320059182&variables={%22id%22:%22' + str(user_id) + '%22+,%22first%22:' + str(index) + ',%22after%22:\"'+ cursor + '\"}'\n",
    "    \n",
    "    r = requests.get(url, headers = {'User-Agent': ua.random})\n",
    "    json_parse = json.loads(r.text)\n",
    "    \n",
    "    for i in range(50):\n",
    "        try: \n",
    "            NodeTree = json_parse['data']['user']['edge_owner_to_timeline_media']['edges'][i]['node']\n",
    "            Href.append(NodeTree.get('display_url')) \n",
    "        except:\n",
    "            pass\n",
    "                \n",
    "    index += 50\n",
    "    if json_parse['data']['user']['edge_owner_to_timeline_media']['page_info'].get('has_next_page'):\n",
    "        cursor = json_parse['data']['user']['edge_owner_to_timeline_media']['page_info'].get('end_cursor')\n",
    "    if not json_parse['data']['user']['edge_owner_to_timeline_media']['page_info'].get('has_next_page'):\n",
    "        break"
   ]
  },
  {
   "cell_type": "code",
   "execution_count": null,
   "metadata": {},
   "outputs": [],
   "source": [
    "if not os.path.exists(user_id):\n",
    "    os.makedirs(user_id)\n",
    "\n",
    "counter = 1\n",
    "for i in range(len(Href)):\n",
    "    urllib.request.urlretrieve(Href[i],  user_id + \"//\"  + str(counter) + \".jpg\")\n",
    "    counter += 1"
   ]
  }
 ],
 "metadata": {
  "kernelspec": {
   "display_name": "Python 3",
   "language": "python",
   "name": "python3"
  },
  "language_info": {
   "codemirror_mode": {
    "name": "ipython",
    "version": 3
   },
   "file_extension": ".py",
   "mimetype": "text/x-python",
   "name": "python",
   "nbconvert_exporter": "python",
   "pygments_lexer": "ipython3",
   "version": "3.8.2"
  }
 },
 "nbformat": 4,
 "nbformat_minor": 4
}
